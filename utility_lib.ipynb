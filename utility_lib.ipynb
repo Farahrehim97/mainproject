{
 "cells": [
  {
   "cell_type": "code",
   "execution_count": 1,
   "metadata": {},
   "outputs": [
    {
     "data": {
      "text/plain": [
       "('distance ', array([ 613.83,  498.39, 1955.82]))"
      ]
     },
     "execution_count": 1,
     "metadata": {},
     "output_type": "execute_result"
    }
   ],
   "source": [
    "#euclidean distance\n",
    "from geopy.distance import distance\n",
    "import pandas as pd\n",
    "\n",
    "import pandas as pd\n",
    "import numpy as np\n",
    "\n",
    "def calculate_euclidean_distance(filename):\n",
    "\n",
    "    # read the .plt file as a DataFrame\n",
    "    df = pd.read_csv(filename, skiprows=6, header=None, names=['latitude', 'longitude', '0', 'altitude', 'date', 'time'])\n",
    "\n",
    "    # get the previous latitude and longitude values\n",
    "    df['prev_lat'] = df['latitude'].shift(1)\n",
    "    df['prev_lon'] = df['longitude'].shift(1)\n",
    "\n",
    "    # calculate the Euclidean distance between consecutive latitude and longitude values\n",
    "    df['distance'] = np.sqrt((df['latitude'] - df['prev_lat']) ** 2 + (df['longitude'] - df['prev_lon']) ** 2) * 111000\n",
    "\n",
    "    # drop the first row (since it doesn't have a previous row to compare to)\n",
    "    df = df.dropna()\n",
    "\n",
    "    # return the resulting DataFrame\n",
    "    return (\"distance \",df['distance'].values)\n",
    "\n",
    "calculate_euclidean_distance('test.plt')\n"
   ]
  },
  {
   "cell_type": "code",
   "execution_count": 2,
   "metadata": {},
   "outputs": [
    {
     "data": {
      "text/plain": [
       "('distance is', array([ 614.90794434,  499.26522063, 1959.25460748]))"
      ]
     },
     "execution_count": 2,
     "metadata": {},
     "output_type": "execute_result"
    }
   ],
   "source": [
    "#haversine distance\n",
    "import pandas as pd\n",
    "import numpy as np\n",
    "\n",
    "def calculate_haversine_distance(filename):\n",
    "    \n",
    "    # read the .plt file as a DataFrame\n",
    "    df = pd.read_csv(filename, skiprows=6, header=None, names=['latitude', 'longitude', '0', 'altitude', 'date', 'time'])\n",
    "\n",
    "    # convert latitude and longitude values to radians\n",
    "    df['lat_rad'] = np.radians(df['latitude'])\n",
    "    df['lon_rad'] = np.radians(df['longitude'])\n",
    "    df['prev_lat_rad'] = df['lat_rad'].shift(1)\n",
    "    df['prev_lon_rad'] = df['lon_rad'].shift(1)\n",
    "\n",
    "    # calculate the Haversine distance between consecutive latitude and longitude values\n",
    "    dlat = df['lat_rad'] - df['prev_lat_rad']\n",
    "    dlon = df['lon_rad'] - df['prev_lon_rad']\n",
    "    a = np.sin(dlat/2)**2 + np.cos(df['lat_rad']) * np.cos(df['prev_lat_rad']) * np.sin(dlon/2)**2\n",
    "    c = 2 * np.arctan2(np.sqrt(a), np.sqrt(1-a))\n",
    "    df['distance'] = 6371 * c * 1000\n",
    "\n",
    "    # drop the first row (since it doesn't have a previous row to compare to)\n",
    "    df = df.dropna()\n",
    "\n",
    "    # return the resulting DataFrame\n",
    "    return (\"distance is\",df['distance'].values)\n",
    "\n",
    "calculate_haversine_distance('test.plt')\n"
   ]
  },
  {
   "cell_type": "code",
   "execution_count": 3,
   "metadata": {},
   "outputs": [
    {
     "data": {
      "text/plain": [
       "('distance is', array([ 615.5996,  499.8268, 1961.4584]))"
      ]
     },
     "execution_count": 3,
     "metadata": {},
     "output_type": "execute_result"
    }
   ],
   "source": [
    "#manhattan distance\n",
    "import pandas as pd\n",
    "\n",
    "def calculate_manhattan_distance(filename):\n",
    "\n",
    "    # read the .plt file as a DataFrame\n",
    "    df = pd.read_csv(filename, skiprows=6, header=None, names=['latitude', 'longitude', '0', 'altitude', 'date', 'time'])\n",
    "\n",
    "    # get the previous latitude and longitude values\n",
    "    df['prev_lat'] = df['latitude'].shift(1)\n",
    "    df['prev_lon'] = df['longitude'].shift(1)\n",
    "\n",
    "    # calculate the Manhattan distance between consecutive latitude and longitude values\n",
    "    df['distance'] = abs(df['latitude'] - df['prev_lat']) + abs(df['longitude'] - df['prev_lon'])\n",
    "\n",
    "    # drop the first row (since it doesn't have a previous row to compare to)\n",
    "    df = df.dropna()\n",
    "    \n",
    "    df['distance'] = df['distance'] * 111320\n",
    "\n",
    "    # return the resulting DataFrame\n",
    "    return (\"distance is\",df['distance'].values)\n",
    "\n",
    "calculate_manhattan_distance('test.plt')"
   ]
  },
  {
   "cell_type": "code",
   "execution_count": null,
   "metadata": {},
   "outputs": [],
   "source": []
  },
  {
   "cell_type": "code",
   "execution_count": null,
   "metadata": {},
   "outputs": [],
   "source": []
  },
  {
   "cell_type": "code",
   "execution_count": null,
   "metadata": {},
   "outputs": [],
   "source": [
    "\n"
   ]
  },
  {
   "cell_type": "code",
   "execution_count": null,
   "metadata": {},
   "outputs": [],
   "source": []
  }
 ],
 "metadata": {
  "kernelspec": {
   "display_name": "Python 3",
   "language": "python",
   "name": "python3"
  },
  "language_info": {
   "codemirror_mode": {
    "name": "ipython",
    "version": 3
   },
   "file_extension": ".py",
   "mimetype": "text/x-python",
   "name": "python",
   "nbconvert_exporter": "python",
   "pygments_lexer": "ipython3",
   "version": "3.6.5"
  }
 },
 "nbformat": 4,
 "nbformat_minor": 2
}
