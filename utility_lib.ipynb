{
 "cells": [
  {
   "cell_type": "code",
   "execution_count": 3,
   "metadata": {},
   "outputs": [
    {
     "name": "stdout",
     "output_type": "stream",
     "text": [
      "('distance ', array([ 613.83,  498.39, 1955.82, 5914.08,  648.24]))\n"
     ]
    }
   ],
   "source": [
    "#euclidean distance\n",
    "from geopy.distance import distance\n",
    "import pandas as pd\n",
    "\n",
    "import pandas as pd\n",
    "import numpy as np\n",
    "\n",
    "def calculate_euclidean_distance(filename):\n",
    "\n",
    "    # read the .plt file as a DataFrame\n",
    "    df = pd.read_csv(filename, skiprows=6, header=None, names=['latitude', 'longitude', '0', 'altitude', 'date', 'time'])\n",
    "\n",
    "    # get the previous latitude and longitude values\n",
    "    df['prev_lat'] = df['latitude'].shift(1)\n",
    "    df['prev_lon'] = df['longitude'].shift(1)\n",
    "\n",
    "    # calculate the Euclidean distance between consecutive latitude and longitude values\n",
    "    df['distance'] = np.sqrt((df['latitude'] - df['prev_lat']) ** 2 + (df['longitude'] - df['prev_lon']) ** 2) * 111000\n",
    "\n",
    "    # drop the first row (since it doesn't have a previous row to compare to)\n",
    "    df = df.dropna()\n",
    "\n",
    "    # return the resulting DataFrame\n",
    "    return (\"distance \",df['distance'].values)\n",
    "\n",
    "euc_dist=calculate_euclidean_distance('test.plt')\n",
    "print(euc_dist)"
   ]
  },
  {
   "cell_type": "code",
   "execution_count": 4,
   "metadata": {},
   "outputs": [
    {
     "data": {
      "text/plain": [
       "('distance is',\n",
       " array([ 614.90794434,  499.26522063, 1959.25460748, 5924.46569162,\n",
       "         649.3783716 ]))"
      ]
     },
     "execution_count": 4,
     "metadata": {},
     "output_type": "execute_result"
    }
   ],
   "source": [
    "#haversine distance\n",
    "import pandas as pd\n",
    "import numpy as np\n",
    "\n",
    "def calculate_haversine_distance(filename):\n",
    "    \n",
    "    # read the .plt file as a DataFrame\n",
    "    df = pd.read_csv(filename, skiprows=6, header=None, names=['latitude', 'longitude', '0', 'altitude', 'date', 'time'])\n",
    "\n",
    "    # convert latitude and longitude values to radians\n",
    "    df['lat_rad'] = np.radians(df['latitude'])\n",
    "    df['lon_rad'] = np.radians(df['longitude'])\n",
    "    df['prev_lat_rad'] = df['lat_rad'].shift(1)\n",
    "    df['prev_lon_rad'] = df['lon_rad'].shift(1)\n",
    "\n",
    "    # calculate the Haversine distance between consecutive latitude and longitude values\n",
    "    dlat = df['lat_rad'] - df['prev_lat_rad']\n",
    "    dlon = df['lon_rad'] - df['prev_lon_rad']\n",
    "    a = np.sin(dlat/2)**2 + np.cos(df['lat_rad']) * np.cos(df['prev_lat_rad']) * np.sin(dlon/2)**2\n",
    "    c = 2 * np.arctan2(np.sqrt(a), np.sqrt(1-a))\n",
    "    df['distance'] = 6371 * c * 1000\n",
    "\n",
    "    # drop the first row (since it doesn't have a previous row to compare to)\n",
    "    df = df.dropna()\n",
    "\n",
    "    # return the resulting DataFrame\n",
    "    return (\"distance is\",df['distance'].values)\n",
    "\n",
    "calculate_haversine_distance('test.plt')\n"
   ]
  },
  {
   "cell_type": "code",
   "execution_count": 5,
   "metadata": {},
   "outputs": [
    {
     "data": {
      "text/plain": [
       "('distance is', array([ 615.5996,  499.8268, 1961.4584, 5931.1296,  650.1088]))"
      ]
     },
     "execution_count": 5,
     "metadata": {},
     "output_type": "execute_result"
    }
   ],
   "source": [
    "#manhattan distance\n",
    "import pandas as pd\n",
    "\n",
    "def calculate_manhattan_distance(filename):\n",
    "\n",
    "    # read the .plt file as a DataFrame\n",
    "    df = pd.read_csv(filename, skiprows=6, header=None, names=['latitude', 'longitude', '0', 'altitude', 'date', 'time'])\n",
    "\n",
    "    # get the previous latitude and longitude values\n",
    "    df['prev_lat'] = df['latitude'].shift(1)\n",
    "    df['prev_lon'] = df['longitude'].shift(1)\n",
    "\n",
    "    # calculate the Manhattan distance between consecutive latitude and longitude values\n",
    "    df['distance'] = abs(df['latitude'] - df['prev_lat']) + abs(df['longitude'] - df['prev_lon'])\n",
    "\n",
    "    # drop the first row (since it doesn't have a previous row to compare to)\n",
    "    df = df.dropna()\n",
    "    \n",
    "    df['distance'] = df['distance'] * 111320\n",
    "\n",
    "    # return the resulting DataFrame\n",
    "    return (\"distance is\",df['distance'].values)\n",
    "\n",
    "calculate_manhattan_distance('test.plt')"
   ]
  },
  {
   "cell_type": "code",
   "execution_count": 26,
   "metadata": {},
   "outputs": [
    {
     "data": {
      "image/png": "[encoded data removed]",
      "text/plain": [
       "<Figure size 432x288 with 1 Axes>"
      ]
     },
     "metadata": {},
     "output_type": "display_data"
    }
   ],
   "source": [
    "import matplotlib.pyplot as plt\n",
    "\n",
    "# calculate the distances using all three methods\n",
    "euclidean_distances = calculate_euclidean_distance('test.plt')[1]\n",
    "manhattan_distances = calculate_manhattan_distance('test.plt')[1]\n",
    "haversine_distances = calculate_haversine_distance('test.plt')[1]\n",
    "\n",
    "# calculate the mean distance for each method\n",
    "euclidean_mean = np.mean(euclidean_distances)\n",
    "manhattan_mean = np.mean(manhattan_distances)\n",
    "haversine_mean = np.mean(haversine_distances)\n",
    "\n",
    "# create a bar chart\n",
    "methods = ['Euclidean', 'Manhattan', 'Haversine']\n",
    "means = [euclidean_mean, manhattan_mean, haversine_mean]\n",
    "plt.bar(methods, means)\n",
    "plt.ylabel('Mean Distance (m)')\n",
    "plt.title('Comparison of Distance Calculation Methods')\n",
    "plt.show()\n"
   ]
  },
  {
   "cell_type": "code",
   "execution_count": 7,
   "metadata": {},
   "outputs": [
    {
     "data": {
      "image/png": "[encoded data removed]",
      "text/plain": [
       "<Figure size 432x288 with 3 Axes>"
      ]
     },
     "metadata": {},
     "output_type": "display_data"
    }
   ],
   "source": [
    "import pandas as pd\n",
    "import matplotlib.pyplot as plt\n",
    "\n",
    "# Calculate the distance values using each of the three distance metrics\n",
    "euclidean_dist = calculate_euclidean_distance('test.plt')[1]\n",
    "haversine_dist = calculate_haversine_distance('test.plt')[1]\n",
    "manhattan_dist = calculate_manhattan_distance('test.plt')[1]\n",
    "\n",
    "# Create a DataFrame with the distance values\n",
    "df = pd.DataFrame({'Euclidean Distance': euclidean_dist,\n",
    "                   'Haversine Distance': haversine_dist,\n",
    "                   'Manhattan Distance': manhattan_dist})\n",
    "\n",
    "# Create scatter plots\n",
    "plt.subplot(1, 3, 1)\n",
    "plt.scatter(df['Euclidean Distance'], df['Haversine Distance'])\n",
    "plt.title('Euclidean vs Haversine Distance')\n",
    "plt.xlabel('Euclidean Distance (m)')\n",
    "plt.ylabel('Haversine Distance (m)')\n",
    "\n",
    "plt.subplot(1, 3, 2)\n",
    "plt.scatter(df['Euclidean Distance'], df['Manhattan Distance'])\n",
    "plt.title('Euclidean vs Manhattan Distance')\n",
    "plt.xlabel('Euclidean Distance (m)')\n",
    "plt.ylabel('Manhattan Distance (m)')\n",
    "\n",
    "plt.subplot(1, 3, 3)\n",
    "plt.scatter(df['Haversine Distance'], df['Manhattan Distance'])\n",
    "plt.title('Haversine vs Manhattan Distance')\n",
    "plt.xlabel('Haversine Distance (m)')\n",
    "plt.ylabel('Manhattan Distance (m)')\n",
    "\n",
    "plt.tight_layout()\n",
    "plt.show()\n"
   ]
  },
  {
   "cell_type": "code",
   "execution_count": null,
   "metadata": {},
   "outputs": [],
   "source": []
  },
  {
   "cell_type": "code",
   "execution_count": null,
   "metadata": {},
   "outputs": [],
   "source": []
  },
  {
   "cell_type": "code",
   "execution_count": null,
   "metadata": {},
   "outputs": [],
   "source": []
  }
 ],
 "metadata": {
  "kernelspec": {
   "display_name": "Python 3",
   "language": "python",
   "name": "python3"
  },
  "language_info": {
   "codemirror_mode": {
    "name": "ipython",
    "version": 3
   },
   "file_extension": ".py",
   "mimetype": "text/x-python",
   "name": "python",
   "nbconvert_exporter": "python",
   "pygments_lexer": "ipython3",
   "version": "3.6.5"
  }
 },
 "nbformat": 4,
 "nbformat_minor": 2
}
