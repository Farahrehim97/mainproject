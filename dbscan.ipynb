{
 "cells": [
  {
   "cell_type": "code",
   "execution_count": 37,
   "metadata": {},
   "outputs": [
    {
     "name": "stdout",
     "output_type": "stream",
     "text": [
      "<mysql.connector.connection_cext.CMySQLConnection object at 0x0000021374F21438>\n"
     ]
    },
    {
     "data": {
      "image/png": "[encoded data removed]",
      "text/plain": [
       "<Figure size 432x288 with 1 Axes>"
      ]
     },
     "metadata": {},
     "output_type": "display_data"
    },
    {
     "data": {
      "image/png": "[encoded data removed]",
      "text/plain": [
       "<Figure size 432x288 with 1 Axes>"
      ]
     },
     "metadata": {},
     "output_type": "display_data"
    },
    {
     "name": "stdout",
     "output_type": "stream",
     "text": [
      "The silhouette score is: 0.9154270278241475\n"
     ]
    }
   ],
   "source": [
    "import mysql.connector\n",
    "import numpy as np\n",
    "from sklearn.cluster import DBSCAN\n",
    "import matplotlib.pyplot as plt\n",
    "\n",
    "import mysql.connector\n",
    "conn = mysql.connector.connect(user='root', password='',\n",
    "                           host='localhost', database='semtraclus')\n",
    "print(conn)\n",
    "\n",
    "# Define a function to retrieve the latitude and longitude values from a table\n",
    "def get_location_data(table_name):\n",
    "    cursor = conn.cursor()\n",
    "    cursor.execute(f\"SELECT ST_X(location), ST_Y(location) FROM {table_name}\")\n",
    "    results = cursor.fetchall()\n",
    "    return np.array(results)\n",
    "\n",
    "def get_location_data_extra(table_name):\n",
    "    cursor = conn.cursor()\n",
    "    cursor.execute(f\"SELECT  ST_X(location2), ST_Y(location2) FROM {table_name}\")\n",
    "    results = cursor.fetchall()\n",
    "    return np.array(results)\n",
    "\n",
    "# Retrieve the latitude and longitude values from multiple tables\n",
    "points = np.concatenate([get_location_data(\"staypoints\"), get_location_data(\"stay_points\"), get_location_data(\"repeated_rows\"), get_location_data(\"intersecting_points\"), get_location_data_extra(\"intersecting_points\")])\n",
    "\n",
    "#print(points)\n",
    "# Preprocess the data if necessary\n",
    "# ...\n",
    "\n",
    "# Apply DBSCAN clustering with the chosen value of eps\n",
    "dbscan = DBSCAN(eps=0.4, min_samples=4)\n",
    "labels = dbscan.fit_predict(points)\n",
    "\n",
    "# ... the rest of the code remains the same\n",
    "\n",
    "\n",
    "\n",
    "# Apply the DBSCAN algorithm to the data\n",
    "#labels = dbscan.fit_predict(points)\n",
    "\n",
    "plt.scatter(points[:, 1], points[:, 0], cmap='viridis')\n",
    "plt.show()\n",
    "\n",
    "# Analyze the clustering results and visualize them\n",
    "plt.scatter(points[:, 1], points[:, 0], c=labels, cmap='seismic')\n",
    "plt.show()\n",
    "\n",
    "from sklearn.metrics import silhouette_score\n",
    "\n",
    "# Calculate the silhouette score\n",
    "silhouette_avg = silhouette_score(points, labels)\n",
    "\n",
    "print(\"The silhouette score is:\", silhouette_avg)"
   ]
  },
  {
   "cell_type": "code",
   "execution_count": 38,
   "metadata": {},
   "outputs": [],
   "source": [
    "# Create a new table for clustering results\n",
    "cursor = conn.cursor()\n",
    "cursor.execute(\"CREATE TABLE clustering_results (id INT AUTO_INCREMENT PRIMARY KEY, label INT, location POINT, loc_id VARCHAR(20))\")\n",
    "\n",
    "# Insert the clustering results into the table\n",
    "for i in range(len(labels)):\n",
    "    loc_id = f\"{points[i][1]:.6f}{points[i][0]:.6f}\"\n",
    "    cursor.execute(\"INSERT INTO clustering_results (label, location, loc_id) VALUES (%s, POINT(%s, %s), %s)\", (int(labels[i]), float(points[i, 1]), float(points[i, 0]), loc_id))\n",
    "\n",
    "# Commit the changes and close the connection\n",
    "conn.commit()\n",
    "cursor.close()\n",
    "conn.close()\n"
   ]
  },
  {
   "cell_type": "code",
   "execution_count": 25,
   "metadata": {},
   "outputs": [
    {
     "name": "stdout",
     "output_type": "stream",
     "text": [
      "Number of clusters: 6\n"
     ]
    }
   ],
   "source": [
    "unique_labels = np.unique(labels)\n",
    "n_clusters = len(unique_labels) - (1 if -1 in unique_labels else 0)\n",
    "print(f\"Number of clusters: {n_clusters}\")\n"
   ]
  },
  {
   "cell_type": "code",
   "execution_count": null,
   "metadata": {},
   "outputs": [],
   "source": []
  },
  {
   "cell_type": "code",
   "execution_count": null,
   "metadata": {},
   "outputs": [],
   "source": []
  },
  {
   "cell_type": "code",
   "execution_count": null,
   "metadata": {},
   "outputs": [],
   "source": []
  }
 ],
 "metadata": {
  "kernelspec": {
   "display_name": "Python 3",
   "language": "python",
   "name": "python3"
  },
  "language_info": {
   "codemirror_mode": {
    "name": "ipython",
    "version": 3
   },
   "file_extension": ".py",
   "mimetype": "text/x-python",
   "name": "python",
   "nbconvert_exporter": "python",
   "pygments_lexer": "ipython3",
   "version": "3.6.5"
  }
 },
 "nbformat": 4,
 "nbformat_minor": 2
}
